{
 "cells": [
  {
   "cell_type": "code",
   "execution_count": 1,
   "metadata": {},
   "outputs": [],
   "source": [
    "import numpy as np\n",
    "import matplotlib.pyplot as plt\n",
    "import pandas as pd\n",
    "import scipy.integrate as spi\n",
    "from matplotlib import rcParams\n",
    "rcParams['lines.linewidth'] = 2\n",
    "rcParams['font.size'] = 26\n",
    "rcParams['legend.fontsize']= 'x-large'\n",
    "rcParams['axes.titlesize']= 'x-large'\n",
    "rcParams['xtick.labelsize']= 'x-large'\n",
    "rcParams['ytick.labelsize']= 'x-large'\n",
    "rcParams['axes.labelsize']= 'x-large'\n",
    "rcParams['figure.titlesize']= 'xx-large'\n",
    "%matplotlib inline\n",
    "#rcParams.keys()"
   ]
  },
  {
   "cell_type": "code",
   "execution_count": 2,
   "metadata": {},
   "outputs": [],
   "source": [
    "def double_integral(function, limit_list, precision=500):\n",
    "    if type(limit_list) != list:\n",
    "        raise IntegrationError(\"The bounds must be given as a list of lists\")\n",
    "    x_list, y_list = limit_list\n",
    "    (a, b), (c, d) = x_list, y_list\n",
    "    x_points, y_points = (b - a) * precision, (d - c) * precision\n",
    "    xs, ys = np.linspace(a, b, int(x_points)), np.linspace(c, d, int(y_points))\n",
    "    integral = 0\n",
    "    sub_sum = 0\n",
    "    super_sum = 0\n",
    "    for i in range(len(xs) - 1):\n",
    "        delta_x = xs[i + 1] - xs[i]\n",
    "        for j in range(len(ys) - 1):\n",
    "            delta_y = ys[j + 1] - ys[j]\n",
    "            delta = delta_x * delta_y\n",
    "            try:\n",
    "                f1 = function(xs[i], ys[j])\n",
    "                sub_area = f1 * delta\n",
    "                f2 = function(xs[i + 1], ys[j + 1])\n",
    "                super_area = f2 * delta\n",
    "\n",
    "                area = (f2 + f1) / 2 * delta\n",
    "                integral += area\n",
    "                sub_sum += sub_area\n",
    "                super_sum += super_area\n",
    "            except ZeroDivisionError:\n",
    "                print(f\"\\nAvoided pole\\n\")\n",
    "\n",
    "    error = super_sum - sub_sum\n",
    "    return integral, error\n",
    "# Idea apoyada de https://github.com/KRBM/numeric_integration/blob/master/integration.py#L55"
   ]
  },
  {
   "cell_type": "code",
   "execution_count": 3,
   "metadata": {},
   "outputs": [],
   "source": [
    "def double_gaussian(x, y):\n",
    "    return np.e**(-(x ** 2 + y ** 2))"
   ]
  },
  {
   "cell_type": "code",
   "execution_count": 4,
   "metadata": {},
   "outputs": [
    {
     "data": {
      "text/plain": [
       "0.1353352832366127"
      ]
     },
     "execution_count": 4,
     "metadata": {},
     "output_type": "execute_result"
    }
   ],
   "source": [
    "double_gaussian(1,1)\n"
   ]
  },
  {
   "cell_type": "code",
   "execution_count": 7,
   "metadata": {},
   "outputs": [
    {
     "name": "stdout",
     "output_type": "stream",
     "text": [
      " El valor de la integral es:  3.1415926535897944  y, el error entre las sumas superiores e inferiores es:  -1.7319479184152442e-14 . EL valor del error entre exacto y aproximado es:  4.240739575284689e-16\n"
     ]
    }
   ],
   "source": [
    "result = double_integral(double_gaussian, [[-500, 500], [-500, 500]], precision=3)\n",
    "result"
   ]
  },
  {
   "cell_type": "code",
   "execution_count": 10,
   "metadata": {},
   "outputs": [
    {
     "name": "stdout",
     "output_type": "stream",
     "text": [
      " El valor de la integral es:  3.1415926535897944  y, el error entre las sumas superiores e inferiores es:  -1.7319479184152442e-14 . EL valor del error relativo para el valor exacto y el  aproximado es:  4.240739575284689e-16 . EL valor del error absoluto para el valor exacto y el  aproximado es:  1.3322676295501878e-15\n"
     ]
    }
   ],
   "source": [
    "exact = np.pi\n",
    "print(' El valor de la integral es: ', result[0], ' y, el error entre las sumas superiores e inferiores es: ', result[1],\n",
    "     '. EL valor del error relativo para el valor exacto y el  aproximado es: ', np.abs(exact-result[0])/exact, \n",
    "      '. EL valor del error absoluto para el valor exacto y el  aproximado es: ',\n",
    "      np.abs(exact-result[0]))"
   ]
  },
  {
   "cell_type": "code",
   "execution_count": 17,
   "metadata": {},
   "outputs": [
    {
     "data": {
      "text/plain": [
       "(3.1415926535897936, -7.549516567451064e-15)"
      ]
     },
     "execution_count": 17,
     "metadata": {},
     "output_type": "execute_result"
    }
   ],
   "source": [
    "result = double_integral(double_gaussian, [[-500, 500], [-500, 500]], 4)\n",
    "result"
   ]
  },
  {
   "cell_type": "code",
   "execution_count": 19,
   "metadata": {},
   "outputs": [
    {
     "name": "stdout",
     "output_type": "stream",
     "text": [
      " El valor de la integral es:  3.1415926535897944  y, el error entre las sumas superiores e inferiores es:  -1.7319479184152442e-14 . EL valor del error relativo para el valor exacto y el  aproximado es:  4.240739575284689e-16 . EL valor del error absoluto para el valor exacto y el  aproximado es:  1.3322676295501878e-15\n"
     ]
    }
   ],
   "source": [
    "exact = np.pi\n",
    "print(' El valor de la integral es: ', result[0], ' y, el error entre las sumas superiores e inferiores es: ', result[1],\n",
    "     '. EL valor del error relativo para el valor exacto y el  aproximado es: ', np.abs(exact-result[0])/exact, \n",
    "      '. EL valor del error absoluto para el valor exacto y el  aproximado es: ',\n",
    "      np.abs(exact-result[0]))"
   ]
  },
  {
   "cell_type": "markdown",
   "metadata": {},
   "source": [
    "# **Tarea 1.**\n",
    "Integrales múltiples: Las integrales múltiples pueden determinarse numéricamente, primero  integrando en una dimensión, luego en una segunda, y así sucesivamente  para todas las dimensiones del problema. Use este mecanismo para estimar la integral de $T(x,y)=2xy+2x-x^2-2y^2+72$. Haga un pequeño código con una función que permita calcular esta integral doble y además use _**scipy.integrate.dblquad**_ para calcularla desde librerías ya hechas.\n",
    "\n",
    "<img width=\"80%\" src=\"../figures/Integral_Exacta.png\">"
   ]
  },
  {
   "cell_type": "code",
   "execution_count": 27,
   "metadata": {},
   "outputs": [],
   "source": [
    "def f(x,y): \n",
    "    return 2*x*y +2*x -x**2 - 2*y**2+72"
   ]
  },
  {
   "cell_type": "code",
   "execution_count": 28,
   "metadata": {},
   "outputs": [
    {
     "data": {
      "text/plain": [
       "(4700.000000000083, 4.008016032065825)"
      ]
     },
     "execution_count": 28,
     "metadata": {},
     "output_type": "execute_result"
    }
   ],
   "source": [
    "result = double_integral(f, [[-5, 5], [-5, 5]], 50)\n",
    "result"
   ]
  },
  {
   "cell_type": "code",
   "execution_count": 29,
   "metadata": {},
   "outputs": [
    {
     "name": "stdout",
     "output_type": "stream",
     "text": [
      " El valor de la integral es:  4700.000000000083  y, el error entre las sumas superiores e inferiores es:  4.008016032065825 . EL valor del error relativo para el valor exacto y el  aproximado es:  1.7609365502412016e-14 . EL valor del error absoluto para el valor exacto y el  aproximado es:  8.276401786133647e-11\n"
     ]
    }
   ],
   "source": [
    "exact = 4700\n",
    "print(' El valor de la integral es: ', result[0], ' y, el error entre las sumas superiores e inferiores es: ', result[1],\n",
    "     '. EL valor del error relativo para el valor exacto y el  aproximado es: ', np.abs(exact-result[0])/exact, \n",
    "      '. EL valor del error absoluto para el valor exacto y el  aproximado es: ',\n",
    "      np.abs(exact-result[0]))"
   ]
  },
  {
   "cell_type": "code",
   "execution_count": 30,
   "metadata": {},
   "outputs": [
    {
     "data": {
      "text/plain": [
       "(4699.999999999582, 0.6668889629982004)"
      ]
     },
     "execution_count": 30,
     "metadata": {},
     "output_type": "execute_result"
    }
   ],
   "source": [
    "result = double_integral(f, [[-5, 5], [-5, 5]], 300)\n",
    "result"
   ]
  },
  {
   "cell_type": "code",
   "execution_count": 32,
   "metadata": {},
   "outputs": [
    {
     "name": "stdout",
     "output_type": "stream",
     "text": [
      " El valor de la integral es:  4699.999999999582  y, el error entre las sumas superiores e inferiores es:  0.6668889629982004 . EL valor del error relativo para el valor exacto y el  aproximado es:  8.901437506713766e-14 . EL valor del error absoluto para el valor exacto y el  aproximado es:  4.18367562815547e-10\n"
     ]
    }
   ],
   "source": [
    "exact = 4700\n",
    "print(' El valor de la integral es: ', result[0], ' y, el error entre las sumas superiores e inferiores es: ', result[1],\n",
    "     '. EL valor del error relativo para el valor exacto y el  aproximado es: ', np.abs(exact-result[0])/exact, \n",
    "      '. EL valor del error absoluto para el valor exacto y el  aproximado es: ',\n",
    "      np.abs(exact-result[0]))"
   ]
  },
  {
   "cell_type": "markdown",
   "metadata": {},
   "source": [
    "## Calculemos ahora usando la herramienta de Scipy: spi.integrate.dblquad\n"
   ]
  },
  {
   "cell_type": "code",
   "execution_count": 34,
   "metadata": {},
   "outputs": [
    {
     "data": {
      "text/plain": [
       "(4700.0, 5.218048215738236e-11)"
      ]
     },
     "execution_count": 34,
     "metadata": {},
     "output_type": "execute_result"
    }
   ],
   "source": [
    "spi.dblquad(f, -5, 5, lambda x: -5, lambda x: 5)"
   ]
  },
  {
   "cell_type": "code",
   "execution_count": null,
   "metadata": {},
   "outputs": [],
   "source": []
  }
 ],
 "metadata": {
  "kernelspec": {
   "display_name": "Python 3",
   "language": "python",
   "name": "python3"
  },
  "language_info": {
   "codemirror_mode": {
    "name": "ipython",
    "version": 3
   },
   "file_extension": ".py",
   "mimetype": "text/x-python",
   "name": "python",
   "nbconvert_exporter": "python",
   "pygments_lexer": "ipython3",
   "version": "3.8.5"
  }
 },
 "nbformat": 4,
 "nbformat_minor": 4
}
