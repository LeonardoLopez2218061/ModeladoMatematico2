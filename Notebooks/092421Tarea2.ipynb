{
 "cells": [
  {
   "cell_type": "markdown",
   "metadata": {},
   "source": [
    "# Tarea 2.\n",
    "\n",
    "Jorge Leonardo López Agredo, 2218061\n"
   ]
  },
  {
   "cell_type": "markdown",
   "metadata": {},
   "source": [
    "**Tarea 2.** Existe un método para estimar una integral definida similar a regla de Simpson que llamaremos Regla Peculiar de Paul. Requiere que dividir el intervalo en un número de subintervalos divisible por cuatro. Entonces,\n",
    "    $\\int_a^bf(x)dx=\\frac{2h}{9}\\left[-f(a)-f(b)+16\\sum_{k=0}^{n/4-1}f(x_{4k+1})-12\\sum_{k=0}^{n/4-1}f(x_{4k+2})+16\\sum_{k=0}^{n/4-1}f(x_{4k+3})-2\\sum_{k=0}^{n/4-1}f(x_{4k})\\right]$\n",
    "    Escriba un programa corto que permita calcula la integral con esta aproximación usando $N$ subintervalos. Para la integral $I=\\int_1^4xe^{-x^2}dx$ haga una tabla que compare los errores en la estimación de esta integral además con la regla de Simpson, la del Trapezoide y la de Riemann para una cantidad de $N=12(1,10,10^2,10^3,10^4,10^5,10^6)$. Establezca cual es el orden de error de cada aproximación. Haga un plot con sus resultados. Recuerde que la solución exacta para esta integral es $I=\\int_1^4xe^{-x^2}dx=-\\frac{1}{2}e^{-x^2}\\Big|_1^4=0.18393966431813380117$. Haga la aproximación con 20 dígitos decimales."
   ]
  },
  {
   "cell_type": "code",
   "execution_count": 3,
   "metadata": {},
   "outputs": [],
   "source": [
    "import numpy as np\n",
    "import matplotlib.pyplot as plt\n",
    "import pandas as pd\n",
    "import scipy.integrate as spi\n",
    "from matplotlib import rcParams\n",
    "rcParams['lines.linewidth'] = 2\n",
    "rcParams['font.size'] = 26\n",
    "rcParams['legend.fontsize']= 'x-large'\n",
    "rcParams['axes.titlesize']= 'x-large'\n",
    "rcParams['xtick.labelsize']= 'x-large'\n",
    "rcParams['ytick.labelsize']= 'x-large'\n",
    "rcParams['axes.labelsize']= 'x-large'\n",
    "rcParams['figure.titlesize']= 'xx-large'\n",
    "%matplotlib inline\n",
    "#rcParams.keys()"
   ]
  },
  {
   "cell_type": "code",
   "execution_count": 4,
   "metadata": {},
   "outputs": [],
   "source": [
    "def riemann_sum(f,a,b,N,method='midpoint'):\n",
    "    '''Compute the Riemann sum of f(x) over the interval [a,b].\n",
    "    \n",
    "    Parameters\n",
    "    ----------\n",
    "    f : function\n",
    "        Vectorized function of one variable\n",
    "    a , b : numbers\n",
    "        Endpoints of the interval [a,b]\n",
    "    N : integer\n",
    "        Number of subintervals of equal length in the partition of [a,b]\n",
    "    method : string\n",
    "        Determines the kind of Riemann sum:\n",
    "        right : Riemann sum using right endpoints\n",
    "        left : Riemann sum using left endpoints\n",
    "        midpoint (default) : Riemann sum using midpoints\n",
    "\n",
    "    Returns\n",
    "    -------\n",
    "    float\n",
    "        Approximation of the integral given by the Riemann sum.\n",
    "    '''\n",
    "    h = (b - a)/N\n",
    "    x = np.linspace(a,b,N+1)\n",
    "\n",
    "    if method == 'left':\n",
    "        x_left = x[:-1]\n",
    "        return np.sum(h*f(x_left))\n",
    "    elif method == 'right':\n",
    "        x_right = x[1:]\n",
    "        return np.sum(h*f(x_right))\n",
    "    elif method == 'midpoint':\n",
    "        x_mid = (x[:-1] + x[1:])/2\n",
    "        return np.sum(h*f(x_mid))\n",
    "    else:\n",
    "        raise ValueError(\"Method must be 'left', 'right' or 'midpoint'.\")\n",
    "    return"
   ]
  },
  {
   "cell_type": "code",
   "execution_count": 5,
   "metadata": {},
   "outputs": [],
   "source": [
    "def trapz(f,a,b,N=50):\n",
    "    '''Approximate the integral of f(x) from a to b by the trapezoid rule.\n",
    "\n",
    "    The trapezoid rule approximates the integral \\int_a^b f(x) dx by the sum:\n",
    "    (dx/2) \\sum_{k=1}^N (f(x_k) + f(x_{k-1}))\n",
    "    where x_k = a + k*dx and dx = (b - a)/N.\n",
    "\n",
    "    Parameters\n",
    "    ----------\n",
    "    f : function\n",
    "        Vectorized function of a single variable\n",
    "    a , b : numbers\n",
    "        Interval of integration [a,b]\n",
    "    N : integer\n",
    "        Number of subintervals of [a,b]\n",
    "\n",
    "    Returns\n",
    "    -------\n",
    "    float\n",
    "        Approximation of the integral of f(x) from a to b using the\n",
    "        trapezoid rule with N subintervals of equal length.\n",
    "\n",
    "    Examples\n",
    "    --------\n",
    "    >>> trapz(np.sin,0,np.pi/2,1000)\n",
    "    0.9999997943832332\n",
    "    '''\n",
    "    x = np.linspace(a,b,N+1) # N+1 points make N subintervals\n",
    "    y = f(x)\n",
    "    y_right = y[1:] # right endpoints\n",
    "    y_left = y[:-1] # left endpoints\n",
    "    dx = (b - a)/N\n",
    "    T = (dx/2) * np.sum(y_right + y_left)\n",
    "    return T"
   ]
  },
  {
   "cell_type": "code",
   "execution_count": 6,
   "metadata": {},
   "outputs": [],
   "source": [
    "def simps(f,a,b,N=50):\n",
    "    '''Approximate the integral of f(x) from a to b by Simpson's rule.\n",
    "\n",
    "    Simpson's rule approximates the integral \\int_a^b f(x) dx by the sum:\n",
    "    (dx/3) \\sum_{k=1}^{N/2} (f(x_{2i-2} + 4f(x_{2i-1}) + f(x_{2i}))\n",
    "    where x_i = a + i*dx and dx = (b - a)/N.\n",
    "\n",
    "    Parameters\n",
    "    ----------\n",
    "    f : function\n",
    "        Vectorized function of a single variable\n",
    "    a , b : numbers\n",
    "        Interval of integration [a,b]\n",
    "    N : (even) integer\n",
    "        Number of subintervals of [a,b]\n",
    "\n",
    "    Returns\n",
    "    -------\n",
    "    float\n",
    "        Approximation of the integral of f(x) from a to b using\n",
    "        Simpson's rule with N subintervals of equal length.\n",
    "\n",
    "    Examples\n",
    "    --------\n",
    "    >>> simps(lambda x : 3*x**2,0,1,10)\n",
    "    1.0\n",
    "    '''\n",
    "    if N % 2 == 1:\n",
    "        raise ValueError(\"N must be an even integer.\")\n",
    "    dx = (b-a)/N\n",
    "    x = np.linspace(a,b,N+1)\n",
    "    y = f(x)\n",
    "    S = dx/3 * np.sum(y[0:-1:2] + 4*y[1::2] + y[2::2])\n",
    "    return S"
   ]
  },
  {
   "cell_type": "code",
   "execution_count": 7,
   "metadata": {},
   "outputs": [],
   "source": [
    "def PaulP(f,a,b,N=60):\n",
    "    '''Approximate the integral of f(x) from a to b by Paul's Peculiar rule.\n",
    "\n",
    "    Paul's Peculiar rule approximates the integral \\int_a^b f(x) dx by the sum:\n",
    "    $\\int_a^bf(x)dx=\\frac{2h}{9}\\left[-f(a)-f(b)+16\\sum_{k=0}^{n/4-1}f(x_{4k+1})\n",
    "    -12\\sum_{k=0}^{n/4-1}f(x_{4k+2})+16\\sum_{k=0}^{n/4-1}f(x_{4k+3})\n",
    "    -2\\sum_{k=0}^{n/4-1}f(x_{4k})\\right]$\n",
    "    where x_i = a + i*h and h = (b - a)/N. \n",
    "    Addictionally, N must be a multiple of 4.\n",
    "\n",
    "    Parameters\n",
    "    ----------\n",
    "    f : function\n",
    "        Vectorized function of a single variable\n",
    "    a , b : numbers\n",
    "        Interval of integration [a,b]\n",
    "    N : (even) integer\n",
    "        Number of subintervals of [a,b]\n",
    "\n",
    "    Returns\n",
    "    -------\n",
    "    float\n",
    "        Approximation of the integral of f(x) from a to b using\n",
    "        Paul's Peculiar rule with N subintervals of equal length.\n",
    "\n",
    "    Examples\n",
    "    --------\n",
    "    >>> PaulP(lambda x : 3*x**2,0,1,12)\n",
    "    1.0\n",
    "    '''\n",
    "    if N % 4 != 0:\n",
    "        raise ValueError(\"N must be an integer multiple of 4.\")\n",
    "    h = (b-a)/N\n",
    "    x = np.linspace(a,b,N+1)\n",
    "    y = f(x)\n",
    "    S = 2*h/9 *(-f(a)-f(b)+ 16* np.sum(y[1:-2:4])-12*np.sum(y[2:-1:4]) + 16*np.sum(y[3::4])-2*np.sum(y[0:-3:4]))\n",
    "    return S"
   ]
  },
  {
   "cell_type": "markdown",
   "metadata": {},
   "source": [
    "$\\int_a^bf(x)dx=\\frac{2h}{9}\\left[-f(a)-f(b)+16\\sum_{k=0}^{n/4-1}f(x_{4k+1})-12\\sum_{k=0}^{n/4-1}f(x_{4k+2})+16\\sum_{k=0}^{n/4-1}f(x_{4k+3})-2\\sum_{k=0}^{n/4-1}f(x_{4k})\\right]$"
   ]
  },
  {
   "cell_type": "code",
   "execution_count": 8,
   "metadata": {},
   "outputs": [
    {
     "data": {
      "text/plain": [
       "0.9999999999999997"
      ]
     },
     "execution_count": 8,
     "metadata": {},
     "output_type": "execute_result"
    }
   ],
   "source": [
    "PaulP(lambda x : 3*x**2,0,1,12)\n"
   ]
  },
  {
   "cell_type": "markdown",
   "metadata": {},
   "source": [
    "Revisemos ahora la siguiente integral $I=\\int_1^4xe^{-x^2}dx$, usando cada uno de los métodos estudiados y comparemos sus errores. Estudiando $N=12(1,10,10^2,10^3,10^4,10^5,10^6)$ y considerando que la solución exacta es $I=\\int_1^4xe^{-x^2}dx=-\\frac{1}{2}e^{-x^2}\\Big|_1^4=0.18393966431813380117$"
   ]
  },
  {
   "cell_type": "code",
   "execution_count": 9,
   "metadata": {},
   "outputs": [],
   "source": [
    "f = lambda x : x * np.e**(-x**2)\n",
    "\n",
    "S,Rm,T,PPR,E, IntToPy=[],[],[],[],[], [],\n",
    "for i in 12*np.logspace(0,6,7,dtype=int):\n",
    "    a = 1; b = 4; N = i\n",
    "    x = np.linspace(a,b,N+1)\n",
    "    y = f(x)\n",
    "    Exact=round(1/2*np.e**(-1)-1/2*np.e**(-16),20)\n",
    "    Int_Python = spi.quad(f,a,b)[0]\n",
    "    Num_trapz=trapz(f,a,b,i)\n",
    "    Num_simps=simps(f,a,b,i)\n",
    "    Num_Riemann = riemann_sum(f,a,b,i)\n",
    "    Num_Paul = PaulP(f,a,b,i)\n",
    "    E.append(Exact)\n",
    "    S.append(Num_simps)\n",
    "    Rm.append(Num_Riemann)\n",
    "    T.append(Num_trapz)\n",
    "    PPR.append(Num_Paul)\n",
    "    IntToPy.append(Int_Python)\n",
    "    "
   ]
  },
  {
   "cell_type": "code",
   "execution_count": 10,
   "metadata": {},
   "outputs": [
    {
     "data": {
      "text/html": [
       "<div>\n",
       "<style scoped>\n",
       "    .dataframe tbody tr th:only-of-type {\n",
       "        vertical-align: middle;\n",
       "    }\n",
       "\n",
       "    .dataframe tbody tr th {\n",
       "        vertical-align: top;\n",
       "    }\n",
       "\n",
       "    .dataframe thead th {\n",
       "        text-align: right;\n",
       "    }\n",
       "</style>\n",
       "<table border=\"1\" class=\"dataframe\">\n",
       "  <thead>\n",
       "    <tr style=\"text-align: right;\">\n",
       "      <th></th>\n",
       "      <th>N</th>\n",
       "      <th>Exact</th>\n",
       "      <th>Solution Riemann Midpoint</th>\n",
       "      <th>Solution Simps</th>\n",
       "      <th>Solution Trapz</th>\n",
       "      <th>Solution Paul's Peculiar Rule</th>\n",
       "      <th>Integrate to Python</th>\n",
       "    </tr>\n",
       "  </thead>\n",
       "  <tbody>\n",
       "    <tr>\n",
       "      <th>0</th>\n",
       "      <td>12.0</td>\n",
       "      <td>0.18394</td>\n",
       "      <td>0.182964</td>\n",
       "      <td>0.183854</td>\n",
       "      <td>0.185876</td>\n",
       "      <td>0.145610</td>\n",
       "      <td>0.18394</td>\n",
       "    </tr>\n",
       "    <tr>\n",
       "      <th>1</th>\n",
       "      <td>120.0</td>\n",
       "      <td>0.18394</td>\n",
       "      <td>0.183930</td>\n",
       "      <td>0.183940</td>\n",
       "      <td>0.183959</td>\n",
       "      <td>0.179852</td>\n",
       "      <td>0.18394</td>\n",
       "    </tr>\n",
       "    <tr>\n",
       "      <th>2</th>\n",
       "      <td>1200.0</td>\n",
       "      <td>0.18394</td>\n",
       "      <td>0.183940</td>\n",
       "      <td>0.183940</td>\n",
       "      <td>0.183940</td>\n",
       "      <td>0.183531</td>\n",
       "      <td>0.18394</td>\n",
       "    </tr>\n",
       "    <tr>\n",
       "      <th>3</th>\n",
       "      <td>12000.0</td>\n",
       "      <td>0.18394</td>\n",
       "      <td>0.183940</td>\n",
       "      <td>0.183940</td>\n",
       "      <td>0.183940</td>\n",
       "      <td>0.183899</td>\n",
       "      <td>0.18394</td>\n",
       "    </tr>\n",
       "    <tr>\n",
       "      <th>4</th>\n",
       "      <td>120000.0</td>\n",
       "      <td>0.18394</td>\n",
       "      <td>0.183940</td>\n",
       "      <td>0.183940</td>\n",
       "      <td>0.183940</td>\n",
       "      <td>0.183936</td>\n",
       "      <td>0.18394</td>\n",
       "    </tr>\n",
       "    <tr>\n",
       "      <th>5</th>\n",
       "      <td>1200000.0</td>\n",
       "      <td>0.18394</td>\n",
       "      <td>0.183940</td>\n",
       "      <td>0.183940</td>\n",
       "      <td>0.183940</td>\n",
       "      <td>0.183939</td>\n",
       "      <td>0.18394</td>\n",
       "    </tr>\n",
       "    <tr>\n",
       "      <th>6</th>\n",
       "      <td>12000000.0</td>\n",
       "      <td>0.18394</td>\n",
       "      <td>0.183940</td>\n",
       "      <td>0.183940</td>\n",
       "      <td>0.183940</td>\n",
       "      <td>0.183940</td>\n",
       "      <td>0.18394</td>\n",
       "    </tr>\n",
       "  </tbody>\n",
       "</table>\n",
       "</div>"
      ],
      "text/plain": [
       "            N    Exact  Solution Riemann Midpoint  Solution Simps  \\\n",
       "0        12.0  0.18394                   0.182964        0.183854   \n",
       "1       120.0  0.18394                   0.183930        0.183940   \n",
       "2      1200.0  0.18394                   0.183940        0.183940   \n",
       "3     12000.0  0.18394                   0.183940        0.183940   \n",
       "4    120000.0  0.18394                   0.183940        0.183940   \n",
       "5   1200000.0  0.18394                   0.183940        0.183940   \n",
       "6  12000000.0  0.18394                   0.183940        0.183940   \n",
       "\n",
       "   Solution Trapz  Solution Paul's Peculiar Rule  Integrate to Python  \n",
       "0        0.185876                       0.145610              0.18394  \n",
       "1        0.183959                       0.179852              0.18394  \n",
       "2        0.183940                       0.183531              0.18394  \n",
       "3        0.183940                       0.183899              0.18394  \n",
       "4        0.183940                       0.183936              0.18394  \n",
       "5        0.183940                       0.183939              0.18394  \n",
       "6        0.183940                       0.183940              0.18394  "
      ]
     },
     "execution_count": 10,
     "metadata": {},
     "output_type": "execute_result"
    }
   ],
   "source": [
    "Todo=pd.DataFrame(np.array([12*np.logspace(0,6,7,dtype=int),E,Rm,S,T,PPR,IntToPy]).T,\n",
    "                  columns=[\"N\",\"Exact\",\"Solution Riemann Midpoint\",\"Solution Simps\",\n",
    "                           \"Solution Trapz\",\"Solution Paul's Peculiar Rule\", \"Integrate to Python\"])\n",
    "Todo"
   ]
  },
  {
   "cell_type": "markdown",
   "metadata": {},
   "source": [
    "## Graficando los errores presentados al estudiar la integral dad usando La regla Peculiar de Paul."
   ]
  },
  {
   "cell_type": "code",
   "execution_count": 13,
   "metadata": {},
   "outputs": [
    {
     "data": {
      "text/html": [
       "<div>\n",
       "<style scoped>\n",
       "    .dataframe tbody tr th:only-of-type {\n",
       "        vertical-align: middle;\n",
       "    }\n",
       "\n",
       "    .dataframe tbody tr th {\n",
       "        vertical-align: top;\n",
       "    }\n",
       "\n",
       "    .dataframe thead th {\n",
       "        text-align: right;\n",
       "    }\n",
       "</style>\n",
       "<table border=\"1\" class=\"dataframe\">\n",
       "  <thead>\n",
       "    <tr style=\"text-align: right;\">\n",
       "      <th></th>\n",
       "      <th>N</th>\n",
       "      <th>Exact</th>\n",
       "      <th>Solution Riemann Midpoint</th>\n",
       "      <th>Solution Simps</th>\n",
       "      <th>Solution Trapz</th>\n",
       "      <th>Solution Paul's Peculiar Rule</th>\n",
       "      <th>Integrate to Python</th>\n",
       "      <th>Error in Solution PPR</th>\n",
       "    </tr>\n",
       "  </thead>\n",
       "  <tbody>\n",
       "    <tr>\n",
       "      <th>0</th>\n",
       "      <td>12.0</td>\n",
       "      <td>0.18394</td>\n",
       "      <td>0.182964</td>\n",
       "      <td>0.183854</td>\n",
       "      <td>0.185876</td>\n",
       "      <td>0.145610</td>\n",
       "      <td>0.18394</td>\n",
       "      <td>2.083800e-01</td>\n",
       "    </tr>\n",
       "    <tr>\n",
       "      <th>1</th>\n",
       "      <td>120.0</td>\n",
       "      <td>0.18394</td>\n",
       "      <td>0.183930</td>\n",
       "      <td>0.183940</td>\n",
       "      <td>0.183959</td>\n",
       "      <td>0.179852</td>\n",
       "      <td>0.18394</td>\n",
       "      <td>2.222118e-02</td>\n",
       "    </tr>\n",
       "    <tr>\n",
       "      <th>2</th>\n",
       "      <td>1200.0</td>\n",
       "      <td>0.18394</td>\n",
       "      <td>0.183940</td>\n",
       "      <td>0.183940</td>\n",
       "      <td>0.183940</td>\n",
       "      <td>0.183531</td>\n",
       "      <td>0.18394</td>\n",
       "      <td>2.222223e-03</td>\n",
       "    </tr>\n",
       "    <tr>\n",
       "      <th>3</th>\n",
       "      <td>12000.0</td>\n",
       "      <td>0.18394</td>\n",
       "      <td>0.183940</td>\n",
       "      <td>0.183940</td>\n",
       "      <td>0.183940</td>\n",
       "      <td>0.183899</td>\n",
       "      <td>0.18394</td>\n",
       "      <td>2.222223e-04</td>\n",
       "    </tr>\n",
       "    <tr>\n",
       "      <th>4</th>\n",
       "      <td>120000.0</td>\n",
       "      <td>0.18394</td>\n",
       "      <td>0.183940</td>\n",
       "      <td>0.183940</td>\n",
       "      <td>0.183940</td>\n",
       "      <td>0.183936</td>\n",
       "      <td>0.18394</td>\n",
       "      <td>2.222223e-05</td>\n",
       "    </tr>\n",
       "    <tr>\n",
       "      <th>5</th>\n",
       "      <td>1200000.0</td>\n",
       "      <td>0.18394</td>\n",
       "      <td>0.183940</td>\n",
       "      <td>0.183940</td>\n",
       "      <td>0.183940</td>\n",
       "      <td>0.183939</td>\n",
       "      <td>0.18394</td>\n",
       "      <td>2.222223e-06</td>\n",
       "    </tr>\n",
       "    <tr>\n",
       "      <th>6</th>\n",
       "      <td>12000000.0</td>\n",
       "      <td>0.18394</td>\n",
       "      <td>0.183940</td>\n",
       "      <td>0.183940</td>\n",
       "      <td>0.183940</td>\n",
       "      <td>0.183940</td>\n",
       "      <td>0.18394</td>\n",
       "      <td>2.222223e-07</td>\n",
       "    </tr>\n",
       "  </tbody>\n",
       "</table>\n",
       "</div>"
      ],
      "text/plain": [
       "            N    Exact  Solution Riemann Midpoint  Solution Simps  \\\n",
       "0        12.0  0.18394                   0.182964        0.183854   \n",
       "1       120.0  0.18394                   0.183930        0.183940   \n",
       "2      1200.0  0.18394                   0.183940        0.183940   \n",
       "3     12000.0  0.18394                   0.183940        0.183940   \n",
       "4    120000.0  0.18394                   0.183940        0.183940   \n",
       "5   1200000.0  0.18394                   0.183940        0.183940   \n",
       "6  12000000.0  0.18394                   0.183940        0.183940   \n",
       "\n",
       "   Solution Trapz  Solution Paul's Peculiar Rule  Integrate to Python  \\\n",
       "0        0.185876                       0.145610              0.18394   \n",
       "1        0.183959                       0.179852              0.18394   \n",
       "2        0.183940                       0.183531              0.18394   \n",
       "3        0.183940                       0.183899              0.18394   \n",
       "4        0.183940                       0.183936              0.18394   \n",
       "5        0.183940                       0.183939              0.18394   \n",
       "6        0.183940                       0.183940              0.18394   \n",
       "\n",
       "   Error in Solution PPR  \n",
       "0           2.083800e-01  \n",
       "1           2.222118e-02  \n",
       "2           2.222223e-03  \n",
       "3           2.222223e-04  \n",
       "4           2.222223e-05  \n",
       "5           2.222223e-06  \n",
       "6           2.222223e-07  "
      ]
     },
     "execution_count": 13,
     "metadata": {},
     "output_type": "execute_result"
    }
   ],
   "source": [
    "Todo[\"Error in Solution PPR\"] = abs(Todo[\"Solution Paul's Peculiar Rule\"]-Todo[\"Exact\"])/Todo[\"Exact\"]\n",
    "Todo"
   ]
  },
  {
   "cell_type": "code",
   "execution_count": 9,
   "metadata": {},
   "outputs": [
    {
     "data": {
      "image/png": "[encoded data removed]",
      "text/plain": [
       "<Figure size 504x360 with 1 Axes>"
      ]
     },
     "metadata": {
      "needs_background": "light"
     },
     "output_type": "display_data"
    }
   ],
   "source": [
    "plt.figure(figsize=(7,5))\n",
    "plt.loglog(Todo[\"N\"],abs(Todo[\"Solution Paul's Peculiar Rule\"]-Todo[\"Exact\"])/Todo[\"Exact\"],\n",
    "           'b.',markersize=10,label=\"Error Solution Paul's Peculiar Rule\")\n",
    "plt.legend( loc = \"best\");"
   ]
  },
  {
   "cell_type": "markdown",
   "metadata": {},
   "source": [
    "## Comparando ahora los errores presentados al usar cada uno de los métodos estudiados, tomando diferentes valores para N, tenemos:"
   ]
  },
  {
   "cell_type": "code",
   "execution_count": 10,
   "metadata": {},
   "outputs": [
    {
     "data": {
      "image/png": "[encoded data removed]",
      "text/plain": [
       "<Figure size 504x360 with 1 Axes>"
      ]
     },
     "metadata": {
      "needs_background": "light"
     },
     "output_type": "display_data"
    }
   ],
   "source": [
    "plt.figure(figsize=(7,5))\n",
    "for i in [\"Solution Riemann Midpoint\",\"Solution Simps\",\"Solution Trapz\",\"Solution Paul's Peculiar Rule\",\"Integrate to Python\"]:\n",
    "    plt.loglog(Todo[\"N\"],abs(Todo[i]-Todo[\"Exact\"])/Todo[\"Exact\"],label=i)\n",
    "    plt.legend(frameon = False, loc = \"best\")"
   ]
  },
  {
   "cell_type": "code",
   "execution_count": 12,
   "metadata": {},
   "outputs": [
    {
     "data": {
      "text/plain": [
       "0.0"
      ]
     },
     "execution_count": 12,
     "metadata": {},
     "output_type": "execute_result"
    }
   ],
   "source": [
    "np.sum(abs(Todo[\"Integrate to Python\"]-Todo[\"Exact\"])/Todo[\"Exact\"])"
   ]
  },
  {
   "cell_type": "code",
   "execution_count": null,
   "metadata": {},
   "outputs": [],
   "source": []
  }
 ],
 "metadata": {
  "kernelspec": {
   "display_name": "Python 3",
   "language": "python",
   "name": "python3"
  },
  "language_info": {
   "codemirror_mode": {
    "name": "ipython",
    "version": 3
   },
   "file_extension": ".py",
   "mimetype": "text/x-python",
   "name": "python",
   "nbconvert_exporter": "python",
   "pygments_lexer": "ipython3",
   "version": "3.8.5"
  }
 },
 "nbformat": 4,
 "nbformat_minor": 4
}
